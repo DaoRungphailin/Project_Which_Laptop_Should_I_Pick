{
 "cells": [
  {
   "cell_type": "markdown",
   "metadata": {},
   "source": [
    "# Which Laptop Should I Pick\n",
    " \n"
   ]
  },
  {
   "cell_type": "markdown",
   "metadata": {},
   "source": [
    "## ชุดข้อมูล"
   ]
  },
  {
   "cell_type": "markdown",
   "metadata": {},
   "source": [
    "[Laptopdata](https://www.kaggle.com/datasets/dhanushbommavaram/laptop-dataset?resource=download) เป็นชุดข้อมูลคอมพิวเตอร์พกพาที่รวบรวมมาจาก [www.flipkart.com](https://www.flipkart.com/) โดยเป็นเว็บไซต์ขายของออนไลน์ในอินเดีย\n",
    "\n",
    "ข้อมูลที่นำมาใช้ประกอบด้วย :\n",
    "* `name` : ชื่อของโน๊ตบุ๊ค\n",
    "* `Price` : ราคาของโน๊ตบุ๊คโดยจะเป็นราคาประมาณจากหน่วยรูปีโดยใช้อัตราแลกเปลี่ยนที่ 1 INR = 0.46 THB\n",
    "* `Type` : ประเภทของโน๊ตบุ๊ค\n",
    "* `Processor_Name` : รุ่นของ CPU ที่โน๊ตบุ๊คใช้\n",
    "* `SSD_Capacity(GB)` : ความจุของ SSD ที่มี โดยใช้หน่วยเป็น GigaByte\n",
    "* `HDD_Capacity(GB)` : ความจุของ HHD ที่มี โดยใช้หน่วยเป็น GigaByte\n",
    "* `RAM(GB)` : ความจุของ RAM ที่มี โดยใช้หน่วยเป็น GigaByte\n",
    "* `GPU_Score` : ประสิทธิภาพของ GPU ในแต่ละโน๊คบุ๊ค \n",
    "* `ScreenReolution` : ความคมชัดของหน้าจอ "
   ]
  },
  {
   "cell_type": "markdown",
   "metadata": {},
   "source": [
    "## นำเข้า library ที่ต้องใช้"
   ]
  },
  {
   "cell_type": "code",
   "execution_count": null,
   "metadata": {},
   "outputs": [],
   "source": [
    "#import zome\n",
    "import numpy as np\n",
    "import pandas as pd\n",
    "from sklearn.feature_extraction.text import CountVectorizer\n",
    "from sklearn.metrics.pairwise import cosine_similarity"
   ]
  },
  {
   "cell_type": "markdown",
   "metadata": {},
   "source": [
    "## นำนำเข้าข้อมูล "
   ]
  },
  {
   "cell_type": "code",
   "execution_count": null,
   "metadata": {},
   "outputs": [],
   "source": [
    "field = ['name','Price(THB)','Type','Processor_Name','SSD_Capacity(GB)','HDD_Capacity(GB)','RAM(GB)','GPU_Score','ScreenReolution']\n",
    "df = pd.read_csv(\"Laptop_Data.csv\",skipinitialspace=True, usecols=field)"
   ]
  },
  {
   "cell_type": "code",
   "execution_count": null,
   "metadata": {},
   "outputs": [],
   "source": [
    "print(\"Matrix size: \",df.shape)\n",
    "df.info"
   ]
  }
 ],
 "metadata": {
  "kernelspec": {
   "display_name": "Python 3.10.7 64-bit",
   "language": "python",
   "name": "python3"
  },
  "language_info": {
   "codemirror_mode": {
    "name": "ipython",
    "version": 3
   },
   "file_extension": ".py",
   "mimetype": "text/x-python",
   "name": "python",
   "nbconvert_exporter": "python",
   "pygments_lexer": "ipython3",
   "version": "3.10.7"
  },
  "orig_nbformat": 4,
  "vscode": {
   "interpreter": {
    "hash": "13bb365ff83f171910f11a6043dfa0c9f5b1df8cfa79124cc4cb343ff9047316"
   }
  }
 },
 "nbformat": 4,
 "nbformat_minor": 2
}
