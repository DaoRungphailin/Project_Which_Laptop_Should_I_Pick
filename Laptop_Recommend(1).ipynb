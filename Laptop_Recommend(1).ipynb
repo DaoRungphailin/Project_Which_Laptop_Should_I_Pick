{
 "cells": [
  {
   "cell_type": "code",
   "execution_count": null,
   "metadata": {},
   "outputs": [],
   "source": [
    "#import zome\n",
    "import numpy as np\n",
    "import pandas as pd\n",
    "from sklearn.feature_extraction.text import CountVectorizer\n",
    "from sklearn.metrics.pairwise import cosine_similarity"
   ]
  },
  {
   "cell_type": "code",
   "execution_count": null,
   "metadata": {},
   "outputs": [],
   "source": [
    "field = ['name','Price(THB)','Type','Processor_Name','SSD_Capacity(GB)','HDD_Capacity(GB)','RAM(GB)','GPU_Score','ScreenReolution']\n",
    "df = pd.read_csv(\"Laptop_Data.csv\",skipinitialspace=True, usecols=field)"
   ]
  },
  {
   "cell_type": "code",
   "execution_count": null,
   "metadata": {},
   "outputs": [],
   "source": [
    "df.GPU_Score"
   ]
  }
 ],
 "metadata": {
  "kernelspec": {
   "display_name": "Python 3.10.7 64-bit",
   "language": "python",
   "name": "python3"
  },
  "language_info": {
   "codemirror_mode": {
    "name": "ipython",
    "version": 3
   },
   "file_extension": ".py",
   "mimetype": "text/x-python",
   "name": "python",
   "nbconvert_exporter": "python",
   "pygments_lexer": "ipython3",
   "version": "3.10.7"
  },
  "orig_nbformat": 4,
  "vscode": {
   "interpreter": {
    "hash": "13bb365ff83f171910f11a6043dfa0c9f5b1df8cfa79124cc4cb343ff9047316"
   }
  }
 },
 "nbformat": 4,
 "nbformat_minor": 2
}
